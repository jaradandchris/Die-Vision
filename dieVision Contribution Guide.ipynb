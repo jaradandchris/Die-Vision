{
 "cells": [
  {
   "cell_type": "markdown",
   "metadata": {},
   "source": [
    "#### Contributing to the project through branches and pull requests\n",
    "The `main` branch of the repository is protected, so you can't push directly to it. Instead, you need to create a new branch, make your changes, and then create a pull request to merge your changes into the `main` branch."
   ]
  },
  {
   "cell_type": "markdown",
   "metadata": {},
   "source": [
    "#### Steps to clone the repository and create a branch"
   ]
  },
  {
   "cell_type": "code",
   "execution_count": null,
   "metadata": {
    "dotnet_interactive": {
     "language": "pwsh"
    },
    "polyglot_notebook": {
     "kernelName": "pwsh"
    },
    "vscode": {
     "languageId": "powershell"
    }
   },
   "outputs": [],
   "source": [
    "# Clone the repository (only need to do this once)\n",
    "git clone https://github.com/jaradandchris/dieVision\n",
    "\n",
    "# Move current directory to the repository\n",
    "cd dieVision\n",
    "\n",
    "# Pull the latest changes from the main branch\n",
    "git pull origin main\n",
    "\n",
    "# Create a new branch and switch to it\n",
    "git checkout -b NEW_BRANCH_NAME\n",
    "\n",
    "#  After you edit some code and save your files, add the changes to git with \n",
    "# the following command:\n",
    "git add .\n",
    "\n",
    "# Commit the changes with a message here are some example commit messages\n",
    "git commit -m \"Update README.md\"\n",
    "git commit -m \"Add new function to dieVision.py\"\n",
    "git commit -m \"Fix bug in dieVision.py\"\n",
    "git commit -m \"Add requirements.txt\"\n",
    "git commit -m \"Delete dieVision.py\"\n",
    "\n",
    "# Some sources recommend that verbs in commit messages should be in the imperative mood. For \n",
    "#  example, use \"Add new function\" instead of \"Added new function.\" Not critical, just FYI.\n",
    "\n",
    "# Push the changes to the GitHub repository\n",
    "git push origin NEW_BRANCH_NAME"
   ]
  }
 ],
 "metadata": {
  "kernelspec": {
   "display_name": "Python 3",
   "language": "python",
   "name": "python3"
  },
  "language_info": {
   "name": "python",
   "version": "3.12.0"
  },
  "polyglot_notebook": {
   "kernelInfo": {
    "defaultKernelName": "csharp",
    "items": [
     {
      "aliases": [],
      "name": "csharp"
     }
    ]
   }
  }
 },
 "nbformat": 4,
 "nbformat_minor": 2
}
